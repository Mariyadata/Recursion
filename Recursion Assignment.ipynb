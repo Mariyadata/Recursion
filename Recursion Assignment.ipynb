{
 "cells": [
  {
   "cell_type": "code",
   "execution_count": 1,
   "id": "8171573d-c187-4c85-aba7-713752280e14",
   "metadata": {},
   "outputs": [
    {
     "name": "stdout",
     "output_type": "stream",
     "text": [
      "3\n",
      "5\n"
     ]
    }
   ],
   "source": [
    "def minDistance(word1, word2):\n",
    "    m = len(word1)\n",
    "    n = len(word2)\n",
    "    \n",
    "   \n",
    "    dp = [[0] * (n + 1) for _ in range(m + 1)]\n",
    "    \n",
    " \n",
    "    for i in range(m + 1):\n",
    "        dp[i][0] = i\n",
    "    for j in range(n + 1):\n",
    "        dp[0][j] = j\n",
    "    \n",
    "\n",
    "    for i in range(1, m + 1):\n",
    "        for j in range(1, n + 1):\n",
    "            if word1[i - 1] == word2[j - 1]:\n",
    "                dp[i][j] = dp[i - 1][j - 1]\n",
    "            else:\n",
    "                dp[i][j] = min(dp[i - 1][j], dp[i][j - 1], dp[i - 1][j - 1]) + 1\n",
    "                \n",
    "    return dp[m][n]\n",
    "\n",
    "word1_1 = \"horse\"\n",
    "word2_1 = \"ros\"\n",
    "print(minDistance(word1_1, word2_1))  \n",
    "\n",
    "word1_2 = \"intention\"\n",
    "word2_2 = \"execution\"\n",
    "print(minDistance(word1_2, word2_2)) \n"
   ]
  },
  {
   "cell_type": "code",
   "execution_count": 2,
   "id": "daf248a2-be7f-4ebd-b023-f3aa22322916",
   "metadata": {},
   "outputs": [
    {
     "name": "stdout",
     "output_type": "stream",
     "text": [
      "The maximum value of the array is: 22\n"
     ]
    }
   ],
   "source": [
    "array = [13, 1, -3, 22, 5]\n",
    "max_value = max(array)\n",
    "print(\"The maximum value of the array is:\", max_value)\n"
   ]
  },
  {
   "cell_type": "code",
   "execution_count": 3,
   "id": "e1dd92ec-5913-47c5-85cf-9f54cace4227",
   "metadata": {},
   "outputs": [
    {
     "name": "stdout",
     "output_type": "stream",
     "text": [
      "The sum of the values of the array is: 120\n"
     ]
    }
   ],
   "source": [
    "array = [92, 23, 15, -20, 10]\n",
    "sum_of_values = sum(array)\n",
    "print(\"The sum of the values of the array is:\", sum_of_values)\n"
   ]
  },
  {
   "cell_type": "code",
   "execution_count": null,
   "id": "19056f1e-fd8d-4294-876d-61e294dde759",
   "metadata": {},
   "outputs": [],
   "source": [
    "def is_armstrong_number(n):\n",
    "    \n",
    "    num_digits = len(str(n))\n",
    "    \n",
    "    total = sum(int(digit) ** num_digits for digit in str(n))\n",
    "    \n",
    "    return total == n\n",
    "\n",
    "# Test cases\n",
    "input1 = 153\n",
    "input2 = 134\n",
    "\n",
    "print(\"Input 1:\", input1)\n",
    "print(\"Output 1:\", \"Yes\" if is_armstrong_number(input1) else \"No\")\n",
    "\n",
    "print(\"Input 2:\", input2)\n",
    "print(\"Output 2:\", \"Yes\" if is_armstrong_number(input2) else \"No\")\n"
   ]
  }
 ],
 "metadata": {
  "kernelspec": {
   "display_name": "Python 3 (ipykernel)",
   "language": "python",
   "name": "python3"
  },
  "language_info": {
   "codemirror_mode": {
    "name": "ipython",
    "version": 3
   },
   "file_extension": ".py",
   "mimetype": "text/x-python",
   "name": "python",
   "nbconvert_exporter": "python",
   "pygments_lexer": "ipython3",
   "version": "3.10.8"
  }
 },
 "nbformat": 4,
 "nbformat_minor": 5
}
